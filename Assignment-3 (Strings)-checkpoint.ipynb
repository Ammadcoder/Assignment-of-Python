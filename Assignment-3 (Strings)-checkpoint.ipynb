{
 "cells": [
  {
   "cell_type": "markdown",
   "id": "a30934bd-9f95-49ce-ad09-a45bf2f78e7f",
   "metadata": {},
   "source": [
    "### Program-1:\n",
    "- Write a Program that accept a string from user. Your program should count and dispaly number of vowels in that string."
   ]
  },
  {
   "cell_type": "code",
   "execution_count": 1,
   "id": "fc60c8d8-7c57-4b18-adc9-62d073b065d2",
   "metadata": {},
   "outputs": [
    {
     "name": "stdin",
     "output_type": "stream",
     "text": [
      "Enter your String:  Ammad\n"
     ]
    },
    {
     "name": "stdout",
     "output_type": "stream",
     "text": [
      "2\n"
     ]
    }
   ],
   "source": [
    "vowels = \"aeiouAEIOU\"\n",
    "str = input(\"Enter your String: \")\n",
    "count = 0\n",
    "for char in str:\n",
    "    if char in vowels:\n",
    "        count+=1\n",
    "print(count)"
   ]
  },
  {
   "cell_type": "markdown",
   "id": "57096b5e-62de-454f-8f5b-b7d5d2e7b4e5",
   "metadata": {},
   "source": [
    "### Program-2:\n",
    "- Write a program that reads a string from keyboard and display.\n",
    "  - The number of Uppercase letter in that  string.\n",
    "  - The number of Lowercase letter in that  string.\n",
    "  - The number of digit in that string.\n",
    "  - The number of whitespace character in that string."
   ]
  },
  {
   "cell_type": "code",
   "execution_count": 2,
   "id": "f750378b-d125-442e-9eef-1ce104c162d3",
   "metadata": {},
   "outputs": [
    {
     "name": "stdin",
     "output_type": "stream",
     "text": [
      "Enter String:  Ammad Hafeez 123\n"
     ]
    },
    {
     "name": "stdout",
     "output_type": "stream",
     "text": [
      "upper case = 2\n",
      "lower case = 9\n",
      "digit case = 3\n",
      "whitespace case = 2\n"
     ]
    }
   ],
   "source": [
    "str1 = input(\"Enter String: \")\n",
    "uppercase_count = 0\n",
    "lowercase_count = 0\n",
    "digit_count = 0\n",
    "whitespace_count = 0\n",
    "\n",
    "for char in str1:\n",
    "    \n",
    "    if char.isupper():\n",
    "        uppercase_count +=1\n",
    "    elif char.islower():\n",
    "        lowercase_count +=1\n",
    "    elif char.isdigit():\n",
    "        digit_count +=1\n",
    "    elif char.isspace():\n",
    "        whitespace_count +=1\n",
    "print(f\"upper case = {uppercase_count}\")\n",
    "print(f\"lower case = {lowercase_count}\")\n",
    "print(f\"digit case = {digit_count}\")\n",
    "print(f\"whitespace case = {whitespace_count}\")"
   ]
  },
  {
   "cell_type": "markdown",
   "id": "f56daaa7-3b40-4ebc-ba72-57a4ecf4cc00",
   "metadata": {},
   "source": [
    "### Program-3:\n",
    "- Write a python program that accept a string from user. Your program should create and display new string where the first and last character of that character have been exchangeed."
   ]
  },
  {
   "cell_type": "code",
   "execution_count": 3,
   "id": "df586ade-ffe1-49d1-893a-2f9efc2365c6",
   "metadata": {},
   "outputs": [
    {
     "name": "stdin",
     "output_type": "stream",
     "text": [
      "Enter String:  AMMAD\n"
     ]
    },
    {
     "name": "stdout",
     "output_type": "stream",
     "text": [
      "the original string: AMMAD\n",
      "swapped string:  DMMAA\n"
     ]
    }
   ],
   "source": [
    "str2 = input(\"Enter String: \")\n",
    "if len(str2)<1:\n",
    "    print(\"more than one string\")\n",
    "else:\n",
    "    new_str = str2[-1] + str2[1:-1] +str2[0] \n",
    "print(f\"the original string: {str2}\")\n",
    "print(f\"swapped string:  {new_str}\")\n"
   ]
  },
  {
   "cell_type": "markdown",
   "id": "c02e92a2-ec91-4c3a-beaa-4563727f0d6f",
   "metadata": {},
   "source": [
    "### Program-4:\n",
    "- Write a python program that accepts a string form user. Your program should create a new string reverse of first string and display it."
   ]
  },
  {
   "cell_type": "code",
   "execution_count": 4,
   "id": "c4301a1c-e952-47ed-8e0f-4bc7dff3b979",
   "metadata": {},
   "outputs": [
    {
     "name": "stdin",
     "output_type": "stream",
     "text": [
      "Enter String:  Exam\n"
     ]
    },
    {
     "name": "stdout",
     "output_type": "stream",
     "text": [
      "maxE\n"
     ]
    }
   ],
   "source": [
    "str3 = input(\"Enter String: \")\n",
    "reverse_string = str3[::-1]\n",
    "print(reverse_string)"
   ]
  },
  {
   "cell_type": "markdown",
   "id": "1d57b98b-f35b-48eb-843d-823a48cecb7c",
   "metadata": {},
   "source": [
    "### Program-5:\n",
    "- Write Python program that accepts a string form user. Your program should create a new string by shifting oen position to left."
   ]
  },
  {
   "cell_type": "code",
   "execution_count": 5,
   "id": "0e909dd8-81e0-48f4-bfc0-48a9e6b205bc",
   "metadata": {},
   "outputs": [
    {
     "name": "stdin",
     "output_type": "stream",
     "text": [
      "Enter String:  Ammad\n"
     ]
    },
    {
     "name": "stdout",
     "output_type": "stream",
     "text": [
      "mmadA\n"
     ]
    }
   ],
   "source": [
    "s = input(\"Enter String: \")\n",
    "new_str = s[1:] + s[0]\n",
    "print(new_str)"
   ]
  },
  {
   "cell_type": "markdown",
   "id": "5f80a33a-7462-4e90-8275-be9378a0592a",
   "metadata": {},
   "source": [
    "### Program-6:\n",
    "- Write a program in python that ask the user input its name and its initial. Assuming that the user always type its first name, middle name and last name and does not include any unnnessary string.\n",
    "\n",
    "- And Don't use **split()** method."
   ]
  },
  {
   "cell_type": "code",
   "execution_count": 7,
   "id": "64edd791-da00-4954-b0dd-eefc7f4cf5dd",
   "metadata": {},
   "outputs": [
    {
     "name": "stdin",
     "output_type": "stream",
     "text": [
      "Enter String:  Sir, Qasim, Hassan\n"
     ]
    },
    {
     "name": "stdout",
     "output_type": "stream",
     "text": [
      "S.Q.H.\n"
     ]
    }
   ],
   "source": [
    "name = input(\"Enter String: \")\n",
    "if name and name[0] != \" \":\n",
    "    print(name[0], end = \".\")\n",
    "i = 1\n",
    "while i < len(name):\n",
    "    if name[i-1] == \" \" and name [i] != \" \":\n",
    "        print(name[i] , end= \".\")\n",
    "    i +=1\n",
    "print()"
   ]
  },
  {
   "cell_type": "markdown",
   "id": "c64dfce3-436d-47c7-a16d-6b9ba12d1014",
   "metadata": {},
   "source": [
    "### Program-7:\n",
    "- A palindrome is a string that read the same backward as forward. For Example, The word dad, madam, radar are palindromes. Write a program that  determines whehter the string is  a palindrome\n",
    "\n",
    "- do not use **reverse()** Method."
   ]
  },
  {
   "cell_type": "code",
   "execution_count": 8,
   "id": "70d15419-de19-4f91-b740-98b95757675f",
   "metadata": {},
   "outputs": [
    {
     "name": "stdin",
     "output_type": "stream",
     "text": [
      "Enter Name:  Ammad\n"
     ]
    },
    {
     "name": "stdout",
     "output_type": "stream",
     "text": [
      "Error\n"
     ]
    }
   ],
   "source": [
    "str4 = input(\"Enter Name: \")\n",
    "reverse_string = str4[::-1]\n",
    "if (str4 == reverse_string):\n",
    "    print(\"It is a Palidrome\")\n",
    "else:\n",
    "    print(\"Error\")"
   ]
  },
  {
   "cell_type": "markdown",
   "id": "b1466667-2669-49eb-89d1-35b2a934e6be",
   "metadata": {},
   "source": [
    "### Program-8:\n",
    "- Write a program that display the following output:\n",
    "    - SHIFT\n",
    "    - HIFTS\n",
    "    - IFTSH\n",
    "    - FTSHI\n",
    "    - TSHIF\n",
    "    - SHIFT\n",
    "  "
   ]
  },
  {
   "cell_type": "code",
   "execution_count": 9,
   "id": "3e045f68-28c2-40ec-a59a-4c8d132fa451",
   "metadata": {},
   "outputs": [
    {
     "name": "stdin",
     "output_type": "stream",
     "text": [
      "Enter Name:  SHIFT\n"
     ]
    },
    {
     "name": "stdout",
     "output_type": "stream",
     "text": [
      "SHIFT\n",
      "HIFTS\n",
      "IFTSH\n",
      "FTSHI\n",
      "TSHIF\n"
     ]
    }
   ],
   "source": [
    "word = input(\"Enter Name: \")\n",
    "\n",
    "for i in range(len(word)):\n",
    "    rotation = word[i:] + word[:i]\n",
    "    print(rotation)"
   ]
  },
  {
   "cell_type": "markdown",
   "id": "0ddd9662-00dd-440c-9c5c-25744041383f",
   "metadata": {},
   "source": [
    "### Program-9:\n",
    "- Write a program that accept the string to setup the password. You password must meet the following requirement.\n",
    "  - The Password must contain eight character.\n",
    "  - It must contain atleast one uppercase letter.\n",
    "  - It must contain atleast one lowercase letter.\n",
    "  - It must contain atleast one numeric value.\n",
    "  - Your Program shoud perform this validation"
   ]
  },
  {
   "cell_type": "code",
   "execution_count": 10,
   "id": "9e28a759-7adf-4c83-ab10-53a3ca6b3142",
   "metadata": {},
   "outputs": [
    {
     "name": "stdin",
     "output_type": "stream",
     "text": [
      "Enter your password:  Ammad2356@\n"
     ]
    },
    {
     "name": "stdout",
     "output_type": "stream",
     "text": [
      "Valid Password\n"
     ]
    }
   ],
   "source": [
    "password = input(\"Enter your password: \")\n",
    "\n",
    "has_upper = False\n",
    "has_lower = False\n",
    "has_digit = False\n",
    "has_length = len(password) >= 8\n",
    "\n",
    "for ch in password:\n",
    "    if ch.isupper():\n",
    "        has_upper = True\n",
    "    if ch.islower():\n",
    "        has_lower = True\n",
    "    if ch.isdigit():\n",
    "        has_digit = True\n",
    "\n",
    "if (has_upper and has_lower and has_digit and has_length):\n",
    "    print(\"Valid Password\")\n",
    "else:\n",
    "    print(\" Invalid Password\")\n",
    "    print(\"Password must have at least 8 characters:\")\n",
    "    print(\"One uppercase letter\")\n",
    "    print(\"One lowercase letter\")\n",
    "    print(\"One digit\")"
   ]
  },
  {
   "cell_type": "code",
   "execution_count": null,
   "id": "d251270d-21bb-446c-8934-ef1c2c784f79",
   "metadata": {},
   "outputs": [],
   "source": []
  }
 ],
 "metadata": {
  "kernelspec": {
   "display_name": "Python 3 (ipykernel)",
   "language": "python",
   "name": "python3"
  },
  "language_info": {
   "codemirror_mode": {
    "name": "ipython",
    "version": 3
   },
   "file_extension": ".py",
   "mimetype": "text/x-python",
   "name": "python",
   "nbconvert_exporter": "python",
   "pygments_lexer": "ipython3",
   "version": "3.13.5"
  }
 },
 "nbformat": 4,
 "nbformat_minor": 5
}
