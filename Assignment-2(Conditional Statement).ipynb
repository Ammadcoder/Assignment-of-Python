{
 "cells": [
  {
   "cell_type": "markdown",
   "id": "c4a9f51c-9cdd-4adf-8472-220154353b79",
   "metadata": {},
   "source": [
    "### Program-1:\n",
    "- A company decided to give bonus of 5% to employee if his/her year of service is more than 5 years. Ask user for their salary and year of service and print the net bonus amount."
   ]
  },
  {
   "cell_type": "code",
   "execution_count": 1,
   "id": "1ea3a28d-4856-4f46-8fc9-7302f96c2703",
   "metadata": {},
   "outputs": [
    {
     "name": "stdin",
     "output_type": "stream",
     "text": [
      "Enter Your Salary:  56889\n",
      "Enter YOur year of service:  8\n"
     ]
    },
    {
     "name": "stdout",
     "output_type": "stream",
     "text": [
      "2844.4500000000003\n"
     ]
    }
   ],
   "source": [
    "salary = int(input(\"Enter Your Salary: \"))\n",
    "YOS = int(input(\"Enter YOur year of service: \"))\n",
    "if(YOS>5):\n",
    "    bonus_amt = salary*0.05\n",
    "    print(bonus_amt)\n",
    "else:\n",
    "    print(\"You are not Eligible for bonus\")"
   ]
  },
  {
   "cell_type": "markdown",
   "id": "d58c8092-50ec-4bcd-9cc2-83b1096e683c",
   "metadata": {},
   "source": [
    "### Program-2:\n",
    "- Write a program to check whether a person is eligible for voting or not. (accept age from user) if age is greater than 17 eligible otherwise not eligible"
   ]
  },
  {
   "cell_type": "code",
   "execution_count": 2,
   "id": "ddd8dd96-ac99-4239-be0e-1fe6a9c5812f",
   "metadata": {},
   "outputs": [
    {
     "name": "stdin",
     "output_type": "stream",
     "text": [
      "enter age:  19\n"
     ]
    },
    {
     "name": "stdout",
     "output_type": "stream",
     "text": [
      "You Are Eligible for Voting\n"
     ]
    }
   ],
   "source": [
    "age = int(input(\"enter age: \"))\n",
    "if(age>17):\n",
    "    print(\"You Are Eligible for Voting\")\n",
    "else:\n",
    "    print(\"You are not Eligible for Voting\")"
   ]
  },
  {
   "cell_type": "markdown",
   "id": "89a8d626-1a98-4b7f-864b-7410d05fadd1",
   "metadata": {},
   "source": [
    "### Program-3:\n",
    "- Write a program to check whether a number entered by user is even or odd."
   ]
  },
  {
   "cell_type": "code",
   "execution_count": 3,
   "id": "76d542c2-eb88-4c3a-82d5-cbdcc218df72",
   "metadata": {},
   "outputs": [
    {
     "name": "stdin",
     "output_type": "stream",
     "text": [
      "Enter Number:  67\n"
     ]
    },
    {
     "name": "stdout",
     "output_type": "stream",
     "text": [
      "Number is Odd\n"
     ]
    }
   ],
   "source": [
    "number = int(input(\"Enter Number: \"))\n",
    "if (number%2==0):\n",
    "    print(\"Number is Even\")\n",
    "else:\n",
    "    print(\"Number is Odd\")"
   ]
  },
  {
   "cell_type": "markdown",
   "id": "07ac20f5-e863-4e4b-ab88-832af06bb63f",
   "metadata": {},
   "source": [
    "### Program-4:\n",
    "- Write a program to check whether a number is divisible by 7 or not. Show Answer"
   ]
  },
  {
   "cell_type": "code",
   "execution_count": 4,
   "id": "88a5e844-8e6f-4b4b-a8a2-86391fff680d",
   "metadata": {},
   "outputs": [
    {
     "name": "stdin",
     "output_type": "stream",
     "text": [
      "Enter the Number:  56\n"
     ]
    },
    {
     "name": "stdout",
     "output_type": "stream",
     "text": [
      "number is divisable by 7\n"
     ]
    }
   ],
   "source": [
    "number = int(input(\"Enter the Number: \"))\n",
    "if (number%7==0):\n",
    "    print(\"number is divisable by 7\")\n",
    "else:\n",
    "    print(\"Error\")"
   ]
  },
  {
   "cell_type": "markdown",
   "id": "2e77b742-fa69-4c2e-b80b-c6b5e2b67b89",
   "metadata": {},
   "source": [
    "### Program-5:\n",
    "- Write a program to display \"Hello\" if a number entered by user is a multiple of five , otherwise print \"Bye\"."
   ]
  },
  {
   "cell_type": "code",
   "execution_count": 5,
   "id": "1a5996a7-45fe-4ff5-b466-7d9ae516dfcd",
   "metadata": {},
   "outputs": [
    {
     "name": "stdin",
     "output_type": "stream",
     "text": [
      "Enter Your Number:  45\n"
     ]
    },
    {
     "name": "stdout",
     "output_type": "stream",
     "text": [
      "Hello!\n"
     ]
    }
   ],
   "source": [
    "message = int(input(\"Enter Your Number: \"))\n",
    "if(message%5==0):\n",
    "    print(\"Hello!\")\n",
    "else:\n",
    "    print(\"Bye!\")\n"
   ]
  },
  {
   "cell_type": "markdown",
   "id": "fc977e00-8f67-4c54-88d9-d1dc15111010",
   "metadata": {},
   "source": [
    "### Program-6:\n",
    "- Write a program to display the last digit of a number."
   ]
  },
  {
   "cell_type": "code",
   "execution_count": 8,
   "id": "ca8c510b-95f7-4a41-8613-a7cffc4a84b7",
   "metadata": {},
   "outputs": [
    {
     "name": "stdin",
     "output_type": "stream",
     "text": [
      "Enter number1:  45\n",
      "Enter number2:  67\n"
     ]
    },
    {
     "name": "stdout",
     "output_type": "stream",
     "text": [
      "Number2 is Greatest\n"
     ]
    }
   ],
   "source": [
    "num_1 = int(input(\"Enter number1: \"))\n",
    "num_2 = int(input(\"Enter number2: \"))\n",
    "if (num_1 > num_2):\n",
    "    print(\"Number1 is Greatest\")\n",
    "elif(num_1 < num_2):\n",
    "    print(\"Number2 is Greatest\")"
   ]
  },
  {
   "cell_type": "markdown",
   "id": "794a26a3-495a-4fa2-bc67-65215760c42f",
   "metadata": {},
   "source": [
    "### Program-7:\n",
    "- A shop will give discount of 10% if the cost of purchased quantity is more than 1000. Ask user for quantity Suppose, one unit wil cost 100. Judge and print total cost for use"
   ]
  },
  {
   "cell_type": "code",
   "execution_count": 9,
   "id": "9b07e1d2-ff26-4e0a-b07b-b0ab3add7d7f",
   "metadata": {},
   "outputs": [
    {
     "name": "stdin",
     "output_type": "stream",
     "text": [
      "Enter Cost Price:  5600\n"
     ]
    },
    {
     "name": "stdout",
     "output_type": "stream",
     "text": [
      "504000.0\n"
     ]
    }
   ],
   "source": [
    "Quantity = int(input(\"Enter Cost Price: \"))\n",
    "price = 100\n",
    "total = Quantity * price\n",
    "if (Quantity > 1000):\n",
    "    discount = total * 0.1\n",
    "    final_val = total - discount\n",
    "    print(final_val)\n",
    "else:\n",
    "    print(total)"
   ]
  },
  {
   "cell_type": "markdown",
   "id": "033ca260-111d-4a01-a800-ff466b7e40d5",
   "metadata": {},
   "source": [
    "### Program-8:\n",
    "- A school has following rules for grading system: a. Below 25 - F\n",
    "\n",
    "b. 25 to 45 - E\n",
    "\n",
    "c. 45 to 50 - D\n",
    "\n",
    "d. 50 to 60 - C\n",
    "\n",
    "e. 60 to 80 - B\n",
    "\n",
    "f. Above 80 - A\n",
    "\n",
    "Ask user to enter marks and print the corresponding grade"
   ]
  },
  {
   "cell_type": "code",
   "execution_count": 10,
   "id": "1f0b972d-ebc7-4d56-90aa-e37f857aa3e1",
   "metadata": {},
   "outputs": [
    {
     "name": "stdin",
     "output_type": "stream",
     "text": [
      "Enter Your Number:  450\n"
     ]
    },
    {
     "name": "stdout",
     "output_type": "stream",
     "text": [
      "You Got A Grade\n"
     ]
    }
   ],
   "source": [
    "number = int(input(\"Enter Your Number: \"))\n",
    "if (number >= 80):\n",
    "    print(\"You Got A Grade\")\n",
    "if (number > 60 and number < 80):\n",
    "    print(\"You Got B Grade\")\n",
    "if (number > 50 and number < 60):\n",
    "    print(\"You Got C Grade\")\n",
    "if (number > 45 and number < 50):\n",
    "    print(\"You Got D Grade\")\n",
    "if (number > 25 and number < 45):\n",
    "    print(\"You Got E Grade\")\n",
    "elif(number <= 25):\n",
    "    print(\"You Got F Grade\")"
   ]
  },
  {
   "cell_type": "markdown",
   "id": "ff6afe2a-27ff-4320-8fd6-d69dc0b0198c",
   "metadata": {},
   "source": [
    "### Program-9:\n",
    "- A student will not be allowed to sit in exam if his/her attendence is less than 75%.\n",
    "\n",
    "Take following input from user\n",
    "\n",
    "Number of classes held\n",
    "\n",
    "Number of classes attended.\n",
    "\n",
    "And print\n",
    "\n",
    "percentage of class attended\n",
    "\n",
    "Is student is allowed to sit in exam or not"
   ]
  },
  {
   "cell_type": "code",
   "execution_count": 11,
   "id": "69f9a9cb-bf6a-453d-994a-e4e37f9feee5",
   "metadata": {},
   "outputs": [
    {
     "name": "stdin",
     "output_type": "stream",
     "text": [
      "Enter number classes:  67\n",
      "Enter Attend classes:  60\n"
     ]
    },
    {
     "name": "stdout",
     "output_type": "stream",
     "text": [
      "89\n",
      "You can sit in Exam\n"
     ]
    }
   ],
   "source": [
    "classes = int(input(\"Enter number classes: \"))\n",
    "NOCA = int(input(\"Enter Attend classes: \"))\n",
    "persentage = int((NOCA/classes)*100)\n",
    "print(persentage)\n",
    "if (persentage >= 75):\n",
    "    print(\"You can sit in Exam\")\n",
    "else:\n",
    "    print(\"Not Eligible\")\n"
   ]
  },
  {
   "cell_type": "markdown",
   "id": "d395d848-977a-4b11-a510-1101e08287b2",
   "metadata": {},
   "source": [
    "### Program-10:\n",
    "- Modify the above question to allow student to sit if he/she has medical cause. Ask user if he/she has medical cause or not ( 'Y' or 'N' ) and print accordingly"
   ]
  },
  {
   "cell_type": "code",
   "execution_count": 12,
   "id": "8d6b6e47-2d66-4078-81e4-5e5eace54d65",
   "metadata": {},
   "outputs": [
    {
     "name": "stdin",
     "output_type": "stream",
     "text": [
      "Enter your attendance percentage:  80\n",
      "Do you have a medical cause? (Y/N):  Y\n"
     ]
    },
    {
     "name": "stdout",
     "output_type": "stream",
     "text": [
      "Allowed to sit in exam\n"
     ]
    }
   ],
   "source": [
    "attendance = int(input(\"Enter your attendance percentage: \"))\n",
    "medical_cause = input(\"Do you have a medical cause? (Y/N): \")\n",
    "\n",
    "if (attendance >= 75):\n",
    "    print(\"Allowed to sit in exam\")\n",
    "elif (medical_cause == 'Y'):\n",
    "    print(\"Allowed to sit in exam\")\n",
    "else:\n",
    "    print(\"Not allowed to sit in exam\")"
   ]
  },
  {
   "cell_type": "markdown",
   "id": "40c957e1-60ba-4c37-bc7a-ae582e451bbe",
   "metadata": {},
   "source": [
    "### Program-11:\n",
    "- Write a program to check if a year is leap year or not. If a year is divisible by 4 then it is leap year but if the year is century year like 2000, 1900, 2100 then it must be divisible by 400."
   ]
  },
  {
   "cell_type": "code",
   "execution_count": 13,
   "id": "d47407ce-43dd-4fe2-9ba6-8b94614c7558",
   "metadata": {},
   "outputs": [
    {
     "name": "stdin",
     "output_type": "stream",
     "text": [
      "Enter Year:  2027\n"
     ]
    },
    {
     "name": "stdout",
     "output_type": "stream",
     "text": [
      "This is not a Leap Year\n"
     ]
    }
   ],
   "source": [
    "year = int(input(\"Enter Year: \"))\n",
    "\n",
    "if (year % 400 == 0):\n",
    "    print(\"This is a Leap Year\")\n",
    "elif (year % 100 == 0):\n",
    "    print(\"This is not a Leap Year\")\n",
    "elif (year % 4 == 0):\n",
    "    print(\"This is a Leap Year\")\n",
    "else:\n",
    "    print(\"This is not a Leap Year\")"
   ]
  },
  {
   "cell_type": "markdown",
   "id": "9419cad2-abc5-4e0a-912a-284d076c2bdb",
   "metadata": {},
   "source": [
    "### Program-12:\n",
    "- Ask user to enter age, gender ( M or F ), marital status ( Y or N ) and then using following rules print their place of service. if employee is female, then she will work only in urban areas.\n",
    "\n",
    "if employee is a male and age is in between 20 to 40 then he may work in anywhere\n",
    "\n",
    "if employee is male and age is in between 40 t0 60 then he will work in urban areas only.\n",
    "\n",
    "And any other input of age should print \"ERROR\""
   ]
  },
  {
   "cell_type": "code",
   "execution_count": 14,
   "id": "012a5dde-515b-4978-b3ee-133df5bacf3b",
   "metadata": {},
   "outputs": [
    {
     "name": "stdin",
     "output_type": "stream",
     "text": [
      "Enter Your Age:  56\n",
      "Enter Your Gender? (M/F):  M\n",
      "Enter Your Maritial Status? (Y/N):  N\n"
     ]
    },
    {
     "name": "stdout",
     "output_type": "stream",
     "text": [
      "You can work in Urban Areas\n"
     ]
    }
   ],
   "source": [
    "age = int(input(\"Enter Your Age: \"))\n",
    "gender = input(\"Enter Your Gender? (M/F): \")\n",
    "marital = input(\"Enter Your Maritial Status? (Y/N): \")\n",
    "\n",
    "if (gender == 'F' or gender == 'f'):\n",
    "    print(\"You will work in Urban areas\")\n",
    "elif(age>20 and age<40):\n",
    "    print(\"You can work anywhere\")\n",
    "elif(age>40 and age<60):\n",
    "    print(\"You can work in Urban Areas\")\n",
    "else:\n",
    "    print(\"Error\")"
   ]
  },
  {
   "cell_type": "markdown",
   "id": "0ab36cd5-2c7e-4cb6-8380-8fb3a740dc80",
   "metadata": {},
   "source": [
    "### Program-13:\n",
    "- Write a program to calculate the electricity bill (accept number of unit from user) according to the following criteria : Unit Price uptp 100 units no charge Next 200 units Rs 5 per unit After 200 units Rs 10 per unit (For example if input unit is 350 than total bill amount is Rs.3500 (For example if input unit is 97 than total bill amount is Rs.0 (For example if input unit is 150 than total bill amount is Rs.750"
   ]
  },
  {
   "cell_type": "code",
   "execution_count": 15,
   "id": "aed1eccd-d09c-4bf8-840a-8df001dbd2e5",
   "metadata": {},
   "outputs": [
    {
     "name": "stdin",
     "output_type": "stream",
     "text": [
      "Enter number of units:  67\n"
     ]
    },
    {
     "name": "stdout",
     "output_type": "stream",
     "text": [
      "Your Bill amount is:  0\n"
     ]
    }
   ],
   "source": [
    "units = int(input(\"Enter number of units: \"))\n",
    "\n",
    "if (units <= 100):\n",
    "    bill = 0\n",
    "elif (units <= 300):\n",
    "    bill = (units - 100) * 5\n",
    "else:\n",
    "    bill = (200 * 5)+(units - 300) * 10\n",
    "print(\"Your Bill amount is: \", bill)"
   ]
  },
  {
   "cell_type": "markdown",
   "id": "8156acc0-4eb0-44e5-b0f3-dd73c2c8938f",
   "metadata": {},
   "source": [
    "### Program-14:\n",
    "- Take input of age of 3 people by user and determine oldest and youngest among them."
   ]
  },
  {
   "cell_type": "code",
   "execution_count": 16,
   "id": "5a885306-3ab6-4fe1-823a-712064e52d1a",
   "metadata": {},
   "outputs": [
    {
     "name": "stdin",
     "output_type": "stream",
     "text": [
      "Enter Age of Man1:  34\n",
      "Enter Age of Man2:  53\n",
      "Enter Age of Man3:  10\n"
     ]
    },
    {
     "name": "stdout",
     "output_type": "stream",
     "text": [
      "Man2 is oldest\n",
      "Man3 is Youngest\n"
     ]
    }
   ],
   "source": [
    "man1 = int(input(\"Enter Age of Man1: \"))\n",
    "man2 = int(input(\"Enter Age of Man2: \"))\n",
    "man3 = int(input(\"Enter Age of Man3: \"))\n",
    "if (man1 > man2 and man1 > man3):\n",
    "    print(\"Man1 is oldest\")\n",
    "elif(man2> man1 and man2> man3):\n",
    "    print(\"Man2 is oldest\")\n",
    "elif (man3 > man1 and man3 > man2 ):\n",
    "    print(\"Man3 is Oldest\")\n",
    "else:\n",
    "    print(\"Error\")\n",
    "if(man1 < man2 and man1 < man3):\n",
    "    print(\"Man1 is Youngest\")\n",
    "elif(man2 < man1 and man2 < man3):\n",
    "    print(\"Man2 is Youngest\")\n",
    "elif(man3 < man1 and man3 < man2):\n",
    "    print(\"Man3 is Youngest\")\n",
    "else:\n",
    "    print(\"Error\")"
   ]
  },
  {
   "cell_type": "code",
   "execution_count": null,
   "id": "ade59511-6565-4ebe-88b7-45a324ea3b38",
   "metadata": {},
   "outputs": [],
   "source": []
  }
 ],
 "metadata": {
  "kernelspec": {
   "display_name": "Python 3 (ipykernel)",
   "language": "python",
   "name": "python3"
  },
  "language_info": {
   "codemirror_mode": {
    "name": "ipython",
    "version": 3
   },
   "file_extension": ".py",
   "mimetype": "text/x-python",
   "name": "python",
   "nbconvert_exporter": "python",
   "pygments_lexer": "ipython3",
   "version": "3.13.5"
  }
 },
 "nbformat": 4,
 "nbformat_minor": 5
}
