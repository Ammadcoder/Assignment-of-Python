{
 "cells": [
  {
   "cell_type": "markdown",
   "id": "b84646d3-2258-4370-9fa4-21adb7720c85",
   "metadata": {},
   "source": [
    "### Program-1:\n",
    "- Write a program that accepts a list from user and print the alternate element of list."
   ]
  },
  {
   "cell_type": "code",
   "execution_count": 1,
   "id": "a7304580-2089-48f4-abc4-244fe680f10d",
   "metadata": {},
   "outputs": [
    {
     "name": "stdin",
     "output_type": "stream",
     "text": [
      "Enter elements separated by space:  A B C D E F G H I \n"
     ]
    },
    {
     "name": "stdout",
     "output_type": "stream",
     "text": [
      "Alternate elements are:\n",
      "A\n",
      "C\n",
      "E\n",
      "G\n",
      "I\n"
     ]
    }
   ],
   "source": [
    "user = input(\"Enter elements separated by space: \")\n",
    "list1 = user.split()\n",
    "\n",
    "print(\"Alternate elements are:\")\n",
    "for i in range(0, len(list1), 2):   \n",
    "    print(list1[i])"
   ]
  },
  {
   "cell_type": "markdown",
   "id": "47aa5c0d-a667-4075-82d2-b15af4104d4b",
   "metadata": {},
   "source": [
    "### Program-2:\n",
    "- Write a program that accepts a list from user. Your program should reverse the content of list and display it.\n",
    "\n",
    "- do not use **reverse()** Method."
   ]
  },
  {
   "cell_type": "code",
   "execution_count": 2,
   "id": "96bb5889-b340-4225-ac2b-95532c5e71d7",
   "metadata": {},
   "outputs": [
    {
     "name": "stdin",
     "output_type": "stream",
     "text": [
      "Enter elements separated by space:  23 45 56 78\n"
     ]
    },
    {
     "name": "stdout",
     "output_type": "stream",
     "text": [
      "Reversed list: ['78', '56', '45', '23']\n"
     ]
    }
   ],
   "source": [
    "user= input(\"Enter elements separated by space: \")\n",
    "lst = user.split()\n",
    "reversed_list = lst[::-1]\n",
    "print(\"Reversed list:\", reversed_list)"
   ]
  },
  {
   "cell_type": "markdown",
   "id": "c7c33dc7-a142-430d-8ae6-a84e4b7a2837",
   "metadata": {},
   "source": [
    "### Program-3:\n",
    "- Find and display the largest number of a list without using built-in **function max()**. Your program should ask the user to input values in list from keyboard."
   ]
  },
  {
   "cell_type": "code",
   "execution_count": 3,
   "id": "fbfef58d-ff10-4e69-a304-b3515b1f23a1",
   "metadata": {},
   "outputs": [
    {
     "name": "stdin",
     "output_type": "stream",
     "text": [
      "Enter numbers that separated by space:  34 56 23 12 45 78\n"
     ]
    },
    {
     "name": "stdout",
     "output_type": "stream",
     "text": [
      "Largest number is: 78\n"
     ]
    }
   ],
   "source": [
    "user = input(\"Enter numbers that separated by space: \")\n",
    "lst = [int(x) for x in user.split()]\n",
    "\n",
    "largest = lst[0]\n",
    "for num in lst:\n",
    "    if num > largest:\n",
    "        largest = num\n",
    "print(\"Largest number is:\", largest)"
   ]
  },
  {
   "cell_type": "markdown",
   "id": "fc4c64ed-8a78-44a3-904f-e19f3a095681",
   "metadata": {},
   "source": [
    "### Program-4:\n",
    "- Write a program that rotates the element of a list so that the element at the first index moves to the second index, the element in the second index moves to the third index, etc., and the element in the last index moves to the first index."
   ]
  },
  {
   "cell_type": "code",
   "execution_count": 4,
   "id": "0c6ea70e-b18b-4e35-ba3c-3eb8ae61681b",
   "metadata": {},
   "outputs": [
    {
     "name": "stdin",
     "output_type": "stream",
     "text": [
      "Enter elements separated by space:  4567 422 7899\n"
     ]
    },
    {
     "name": "stdout",
     "output_type": "stream",
     "text": [
      "Rotated list: ['7899', '4567', '422']\n"
     ]
    }
   ],
   "source": [
    "users = input(\"Enter elements separated by space: \")\n",
    "list = users.split()\n",
    "rotation = [list[-1]] + list[:-1]\n",
    "print(\"Rotated list:\", rotation)"
   ]
  },
  {
   "cell_type": "markdown",
   "id": "ea568095-1ab3-40f7-a357-35a94b1b1a60",
   "metadata": {},
   "source": [
    "### Program-5:\n",
    "- Write a program that inputs a string and ask user to delete a given word from a string."
   ]
  },
  {
   "cell_type": "code",
   "execution_count": 5,
   "id": "62eaaccc-61a8-41b7-abd8-c3c79fa368da",
   "metadata": {},
   "outputs": [
    {
     "name": "stdin",
     "output_type": "stream",
     "text": [
      "Enter a string:  Ammad\n",
      "Enter the word to delete:  mad\n"
     ]
    },
    {
     "name": "stdout",
     "output_type": "stream",
     "text": [
      "Updated string: Am\n"
     ]
    }
   ],
   "source": [
    "text = input(\"Enter a string: \")\n",
    "word = input(\"Enter the word to delete: \")\n",
    "new_text = text.replace(word, \"\")\n",
    "print(\"Updated string:\", new_text)"
   ]
  },
  {
   "cell_type": "markdown",
   "id": "239b6a48-9be3-4042-9f1b-9f14f62c93d9",
   "metadata": {},
   "source": [
    "### Program-6:\n",
    "- Write a program that reads a string from the user containing a date in the form mm/dd/yyyy. It should print the date in the form March 12 2021."
   ]
  },
  {
   "cell_type": "code",
   "execution_count": 6,
   "id": "2d0b376a-a35f-443b-a0aa-49a7902f3813",
   "metadata": {},
   "outputs": [
    {
     "name": "stdin",
     "output_type": "stream",
     "text": [
      "Enter date in mm/dd/yyyy format:  07/04/2006\n"
     ]
    },
    {
     "name": "stdout",
     "output_type": "stream",
     "text": [
      "July 4, 2006\n"
     ]
    }
   ],
   "source": [
    "date = input(\"Enter date in mm/dd/yyyy format: \")\n",
    "month, day, year = date.split(\"/\")\n",
    "months = [\"January\", \"February\", \"March\", \"April\", \"May\", \"June\",\n",
    "          \"July\", \"August\", \"September\", \"October\", \"November\", \"December\"]\n",
    "month_name = months[int(month) - 1]\n",
    "print(f\"{month_name} {int(day)}, {year}\")"
   ]
  },
  {
   "cell_type": "markdown",
   "id": "62641f30-292e-4bbf-a7c3-85d77902da55",
   "metadata": {},
   "source": [
    "### Program-7:\n",
    "- Write a program with a function that accepts a string from keyboard and create a new string after converting character of each word capitalized. For instance, if the sentence is “stop and smell the roses.” the output should be “Stop And Smell The Roses.”"
   ]
  },
  {
   "cell_type": "code",
   "execution_count": 9,
   "id": "37a178a3-97a7-4892-8d13-8b82bd358a74",
   "metadata": {},
   "outputs": [
    {
     "name": "stdin",
     "output_type": "stream",
     "text": [
      "Enter a sentence:  ammad hafeez\n"
     ]
    },
    {
     "name": "stdout",
     "output_type": "stream",
     "text": [
      "Output: Ammad Hafeez\n"
     ]
    }
   ],
   "source": [
    "def capitalize_words(text):\n",
    "    return text.title()\n",
    "sentence = input(\"Enter a sentence: \")\n",
    "print(\"Output:\", capitalize_words(sentence))"
   ]
  },
  {
   "cell_type": "markdown",
   "id": "60e8d706-9916-4369-a181-9890528017d7",
   "metadata": {},
   "source": [
    "### Program-8:"
   ]
  },
  {
   "cell_type": "raw",
   "id": "27a6d0f9-ba21-49b5-896d-953825baa4e0",
   "metadata": {},
   "source": [
    "Find the sum of each row of matrix of size m x n. For example for the following matrix output will be like this:\n",
    "    2   11   7   12\n",
    "    5    2   9   15\n",
    "    8    3  10   42\n",
    "Sum of row 1 = 32\n",
    "Sum of row 2 = 31\n",
    "Sum of row 3 = 63"
   ]
  },
  {
   "cell_type": "code",
   "execution_count": 12,
   "id": "76d1c8c8-b1a4-4598-94bb-e25633e9f8c2",
   "metadata": {},
   "outputs": [
    {
     "name": "stdout",
     "output_type": "stream",
     "text": [
      "2 11 7 12 32\n",
      "5 2 9 15 31\n",
      "8 3 10 42 63\n",
      "sum of row1 = 32\n",
      "sum of row2 = 31\n",
      "sum of row3 = 63\n"
     ]
    }
   ],
   "source": [
    "matrix = [\n",
    "    [2, 11, 7, 12],\n",
    "    [5, 2, 9, 15],\n",
    "    [8, 3, 10, 42]\n",
    "]\n",
    "\n",
    "for i in range(len(matrix)):\n",
    "    row_sum = 0\n",
    "    for j in range(len(matrix[i])):\n",
    "        print(matrix[i][j], end=\" \")\n",
    "        row_sum += matrix[i][j]\n",
    "    print(row_sum) \n",
    "\n",
    "for i in range(len(matrix)):\n",
    "    print(f\"sum of row{i+1} = {sum(matrix[i])}\")"
   ]
  },
  {
   "cell_type": "markdown",
   "id": "2bc38f53-12a1-4b57-b21c-7f975a3ba0ad",
   "metadata": {},
   "source": [
    "### Program-9:\n",
    "- Write a program to add two matrices of size n x m."
   ]
  },
  {
   "cell_type": "code",
   "execution_count": 13,
   "id": "d1d44a93-a9e7-4d88-b3c3-e8cdc819576e",
   "metadata": {},
   "outputs": [
    {
     "name": "stdin",
     "output_type": "stream",
     "text": [
      "Enter number of rows:  4\n",
      "Enter number of columns:  3\n"
     ]
    },
    {
     "name": "stdout",
     "output_type": "stream",
     "text": [
      "Enter elements of first matrix:\n"
     ]
    },
    {
     "name": "stdin",
     "output_type": "stream",
     "text": [
      "A[1][1]:  2\n",
      "A[1][2]:  4\n",
      "A[1][3]:  5\n",
      "A[2][1]:  6\n",
      "A[2][2]:  8\n",
      "A[2][3]:  2\n",
      "A[3][1]:  5\n",
      "A[3][2]:  8\n",
      "A[3][3]:  3\n",
      "A[4][1]:  7\n",
      "A[4][2]:  3\n",
      "A[4][3]:  8\n"
     ]
    },
    {
     "name": "stdout",
     "output_type": "stream",
     "text": [
      "\n",
      "Enter elements of second matrix:\n"
     ]
    },
    {
     "name": "stdin",
     "output_type": "stream",
     "text": [
      "B[1][1]:  3\n",
      "B[1][2]:  8\n",
      "B[1][3]:  9\n",
      "B[2][1]:  6\n",
      "B[2][2]:  2\n",
      "B[2][3]:  5\n",
      "B[3][1]:  7\n",
      "B[3][2]:  9\n",
      "B[3][3]:  0\n",
      "B[4][1]:  3\n",
      "B[4][2]:  5\n",
      "B[4][3]:  6\n"
     ]
    },
    {
     "name": "stdout",
     "output_type": "stream",
     "text": [
      "\n",
      "Resultant Matrix (A + B):\n",
      "5 12 14 12 10 7 12 17 3 10 8 14 "
     ]
    }
   ],
   "source": [
    "m = int(input(\"Enter number of rows: \"))\n",
    "n = int(input(\"Enter number of columns: \"))\n",
    "\n",
    "print(\"Enter elements of first matrix:\")\n",
    "A = []\n",
    "for i in range(m):\n",
    "    row = []\n",
    "    for j in range(n):\n",
    "        num = int(input(f\"A[{i+1}][{j+1}]: \"))\n",
    "        row.append(num)\n",
    "    A.append(row)\n",
    "\n",
    "print(\"\\nEnter elements of second matrix:\")\n",
    "B = []\n",
    "for i in range(m):\n",
    "    row = []\n",
    "    for j in range(n):\n",
    "        num = int(input(f\"B[{i+1}][{j+1}]: \"))\n",
    "        row.append(num)\n",
    "    B.append(row)\n",
    "C = []\n",
    "for i in range(m):\n",
    "    row = []\n",
    "    for j in range(n):\n",
    "        row.append(A[i][j] + B[i][j])\n",
    "    C.append(row)\n",
    "print(\"\\nResultant Matrix (A + B):\")\n",
    "for row in C:\n",
    "    for val in row:\n",
    "        print(val, end=\" \")"
   ]
  },
  {
   "cell_type": "markdown",
   "id": "4cbf88ca-8a2e-4af6-984d-afafcfb7e492",
   "metadata": {},
   "source": [
    "### Program-10:\n",
    "- Write a program to multiply two matrices."
   ]
  },
  {
   "cell_type": "code",
   "execution_count": null,
   "id": "b3f81e1e-b5de-4e90-ab9b-916f5a0b80d7",
   "metadata": {},
   "outputs": [],
   "source": [
    "m = int(input(\"Enter number of rows of first matrix: \"))\n",
    "n = int(input(\"Enter number of columns of first matrix: \"))\n",
    "p = int(input(\"Enter number of columns of second matrix: \"))\n",
    "print(\"\\nEnter first matrix (each row on a new line, space-separated):\")\n",
    "A = []\n",
    "for i in range(m):\n",
    "    row = list(map(int, input().split()))\n",
    "    if len(row) != n:\n",
    "        raise ValueError(\"Row length does not match number of columns.\")\n",
    "    A.append(row)\n",
    "print(\"\\nEnter second matrix (each row on a new line, space-separated):\")\n",
    "B = []\n",
    "for i in range(n):\n",
    "    row = list(map(int, input().split()))\n",
    "    if len(row) != p:\n",
    "        raise ValueError(\"Row length does not match number of columns.\")\n",
    "    B.append(row)\n",
    "\n",
    "C = [[0] * p for _ in range(m)]\n",
    "\n",
    "for i in range(m):\n",
    "    for j in range(p):\n",
    "        for k in range(n):\n",
    "            C[i][j] += A[i][k] * B[k][j]\n",
    "\n",
    "print(\"\\nResultant Matrix:\")\n",
    "for row in C:\n",
    "    print(*row)\n"
   ]
  },
  {
   "cell_type": "code",
   "execution_count": null,
   "id": "f8ebb683-46c6-42bb-8efb-278950ac205c",
   "metadata": {},
   "outputs": [],
   "source": []
  }
 ],
 "metadata": {
  "kernelspec": {
   "display_name": "Python 3 (ipykernel)",
   "language": "python",
   "name": "python3"
  },
  "language_info": {
   "codemirror_mode": {
    "name": "ipython",
    "version": 3
   },
   "file_extension": ".py",
   "mimetype": "text/x-python",
   "name": "python",
   "nbconvert_exporter": "python",
   "pygments_lexer": "ipython3",
   "version": "3.13.5"
  }
 },
 "nbformat": 4,
 "nbformat_minor": 5
}
