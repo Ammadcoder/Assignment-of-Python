{
 "cells": [
  {
   "cell_type": "markdown",
   "id": "ed41e7b4-e726-467e-8459-9d2595da6958",
   "metadata": {},
   "source": [
    "### Program-1:\n",
    "- Write a python program to prints the number from 1 to 10 using **for loop**"
   ]
  },
  {
   "cell_type": "code",
   "execution_count": 1,
   "id": "371924b0-afa5-4524-a491-66c8c8205284",
   "metadata": {},
   "outputs": [
    {
     "name": "stdout",
     "output_type": "stream",
     "text": [
      "1\n",
      "2\n",
      "3\n",
      "4\n",
      "5\n",
      "6\n",
      "7\n",
      "8\n",
      "9\n",
      "10\n"
     ]
    }
   ],
   "source": [
    "for i in range(1, 11):\n",
    "    print(i)"
   ]
  },
  {
   "cell_type": "markdown",
   "id": "8a9b8d7e-3eaa-444a-8e95-53a21334ad40",
   "metadata": {},
   "source": [
    "### Program-2:\n",
    "- Write a python program to print the numbers from 20 to 1 using **While loop**"
   ]
  },
  {
   "cell_type": "code",
   "execution_count": 2,
   "id": "f3b33a1f-0ab9-4f16-bedc-9f78d1c3a9c7",
   "metadata": {},
   "outputs": [
    {
     "name": "stdout",
     "output_type": "stream",
     "text": [
      "20 19 18 17 16 15 14 13 12 11 10 9 8 7 6 5 4 3 2 1 "
     ]
    }
   ],
   "source": [
    "i = 20\n",
    "while i >= 1:\n",
    "    print(i, end=\" \")\n",
    "    i -= 1"
   ]
  },
  {
   "cell_type": "markdown",
   "id": "daab5b1f-e33a-4c0b-80f5-ec281112e78a",
   "metadata": {},
   "source": [
    "### Program-3:\n",
    "- Write a python to prints the even number from 1 to 10."
   ]
  },
  {
   "cell_type": "code",
   "execution_count": 3,
   "id": "489fdebc-066a-4a2c-8f46-d6b71c4af261",
   "metadata": {},
   "outputs": [
    {
     "name": "stdout",
     "output_type": "stream",
     "text": [
      "2 4 6 8 10 "
     ]
    }
   ],
   "source": [
    "i = 2\n",
    "while i <= 10:\n",
    "    print(i, end=\" \")\n",
    "    i += 2"
   ]
  },
  {
   "cell_type": "markdown",
   "id": "51cad46b-9510-4e98-9899-be381e6fd464",
   "metadata": {},
   "source": [
    "### Program-4:\n",
    "- Write program that prompt the user to input  to enter the number n, and prints all the number from 1 to n. "
   ]
  },
  {
   "cell_type": "code",
   "execution_count": 4,
   "id": "3899f3c2-b03e-44d9-b80d-dbec660530c8",
   "metadata": {},
   "outputs": [
    {
     "name": "stdin",
     "output_type": "stream",
     "text": [
      "Enter a number:  15\n"
     ]
    },
    {
     "name": "stdout",
     "output_type": "stream",
     "text": [
      "1 2 3 4 5 6 7 8 9 10 11 12 13 14 15 "
     ]
    }
   ],
   "source": [
    "\n",
    "n = int(input(\"Enter a number: \"))\n",
    "i = 1\n",
    "while i <= n:\n",
    "    print(i, end=\" \")\n",
    "    i += 1"
   ]
  },
  {
   "cell_type": "markdown",
   "id": "b897a2ec-2bd2-4998-afc5-765a3beb8fd2",
   "metadata": {},
   "source": [
    "### Program-5:\n",
    "- Write program that prompt the user to input to enter the number n, and prints all the odd number from 1 to n."
   ]
  },
  {
   "cell_type": "code",
   "execution_count": 6,
   "id": "7fe146e9-6ca1-4bfd-809b-0128bfcaaefe",
   "metadata": {},
   "outputs": [
    {
     "name": "stdin",
     "output_type": "stream",
     "text": [
      "Enter a number:  19\n"
     ]
    },
    {
     "name": "stdout",
     "output_type": "stream",
     "text": [
      "1 3 5 7 9 11 13 15 17 19 "
     ]
    }
   ],
   "source": [
    "number = int(input(\"Enter a number: \"))\n",
    "i = 1\n",
    "while i <= number:\n",
    "    print(i, end=\" \")\n",
    "    i += 2"
   ]
  },
  {
   "cell_type": "markdown",
   "id": "12814f7b-0f3c-4c6b-8cc1-447b0a5141fc",
   "metadata": {},
   "source": [
    "### Program-6:\n",
    "-  Write a program that prints the \"Happy Birthday!\" five times on screen."
   ]
  },
  {
   "cell_type": "code",
   "execution_count": 7,
   "id": "67b02f68-7063-4349-a310-66b978bb77cb",
   "metadata": {},
   "outputs": [
    {
     "name": "stdout",
     "output_type": "stream",
     "text": [
      "Happy Birthday!\n",
      "Happy Birthday!\n",
      "Happy Birthday!\n",
      "Happy Birthday!\n",
      "Happy Birthday!\n"
     ]
    }
   ],
   "source": [
    "wish = \"Happy Birthday!\"\n",
    "for i in range(1, 6):\n",
    "    print(wish)"
   ]
  },
  {
   "cell_type": "markdown",
   "id": "868b0fa5-8eb1-4297-bff4-a438c0847b94",
   "metadata": {},
   "source": [
    "### Program-7:\n",
    "- Write program that takes a number n as input from the user and generates the first n terms of series by squaring the natural numbers.\n",
    "  - Sample Output:\n",
    "  - Enter number:6\n",
    "  - the first 6 terms of series\n",
    "  - 1 4 9 16 25 36\n",
    "  "
   ]
  },
  {
   "cell_type": "code",
   "execution_count": 8,
   "id": "abfa756c-ae70-4328-b40c-4fc9d12fbae7",
   "metadata": {},
   "outputs": [
    {
     "name": "stdin",
     "output_type": "stream",
     "text": [
      "Enter the Number:  7\n"
     ]
    },
    {
     "name": "stdout",
     "output_type": "stream",
     "text": [
      "1 4 9 16 25 36 49 "
     ]
    }
   ],
   "source": [
    "number = int(input(\"Enter the Number: \"))\n",
    "i = 1\n",
    "while i <= number:\n",
    "    print(i * i, end=\" \")\n",
    "    i += 1"
   ]
  },
  {
   "cell_type": "markdown",
   "id": "95533ed7-7d8d-49a2-9afb-3e9b23d1317b",
   "metadata": {},
   "source": [
    "### Program-8:\n",
    "-  Write a program that prompts the user  to input a numbers and prints its multiplication."
   ]
  },
  {
   "cell_type": "code",
   "execution_count": 9,
   "id": "fe1e8232-1e8f-4680-947d-a6724fd14d00",
   "metadata": {},
   "outputs": [
    {
     "name": "stdin",
     "output_type": "stream",
     "text": [
      "Enter a number:  6\n"
     ]
    },
    {
     "name": "stdout",
     "output_type": "stream",
     "text": [
      "6 x 1 = 6\n",
      "6 x 2 = 12\n",
      "6 x 3 = 18\n",
      "6 x 4 = 24\n",
      "6 x 5 = 30\n",
      "6 x 6 = 36\n",
      "6 x 7 = 42\n",
      "6 x 8 = 48\n",
      "6 x 9 = 54\n",
      "6 x 10 = 60\n"
     ]
    }
   ],
   "source": [
    "num = int(input(\"Enter a number: \"))\n",
    "i = 1\n",
    "while i <= 10:\n",
    "    print(num, \"x\", i, \"=\", num * i)\n",
    "    i += 1"
   ]
  },
  {
   "cell_type": "markdown",
   "id": "2d7d2e83-150d-4d0c-b12b-30db637a1c0f",
   "metadata": {},
   "source": [
    "### Program-9:\n",
    "- Write python program to prints the first 8 terms of an arithematic progesssion startign with 3 and having a common difference of 4\n",
    "  - The program should output the following sequence.\n",
    "  - 3 7 11 15 19 23 27 31\n"
   ]
  },
  {
   "cell_type": "code",
   "execution_count": 12,
   "id": "d604fda4-7a4c-4114-99b2-5817ccb18512",
   "metadata": {},
   "outputs": [
    {
     "name": "stdout",
     "output_type": "stream",
     "text": [
      "3 8 13 18 23 28 33 38 43 "
     ]
    }
   ],
   "source": [
    "a = 3\n",
    "d = 5\n",
    "n = 9\n",
    "\n",
    "i = 0\n",
    "while i < n:\n",
    "    term = a + i * d\n",
    "    print(term, end=\" \")\n",
    "    i += 1"
   ]
  },
  {
   "cell_type": "markdown",
   "id": "47f47283-e46d-45da-8ad0-3ab1b5681f16",
   "metadata": {},
   "source": [
    "### Program-10:\n",
    "- Write python program to prints the first 6 terms of an geometric sequence starting with 2 and having a common ratio of 3\n",
    "    - The program should output the following sequence.\n",
    "    - 2 6 18 54 162 486"
   ]
  },
  {
   "cell_type": "code",
   "execution_count": 13,
   "id": "9791fd34-290b-43b8-855d-6ceb234ef09b",
   "metadata": {},
   "outputs": [
    {
     "name": "stdout",
     "output_type": "stream",
     "text": [
      "6 18 54 162 486 1458 4374 "
     ]
    }
   ],
   "source": [
    "a = 6\n",
    "r = 3       \n",
    "n = 7      \n",
    "\n",
    "i = 0\n",
    "while i < n:\n",
    "    term = a * (r ** i)\n",
    "    print(term, end=\" \")\n",
    "    i += 1"
   ]
  },
  {
   "cell_type": "markdown",
   "id": "efd447a5-c7d9-4744-a0ba-3cbbac45b283",
   "metadata": {},
   "source": [
    "### Program-11:\n",
    "- Write a program that ask the user to positive integer value. The program should calculate the sum of all integers from 1 upto the number entered For Example, if the user enter 20, the loop will find the sum of 1,2,3,4,.....,20."
   ]
  },
  {
   "cell_type": "code",
   "execution_count": 14,
   "id": "8b683a78-713f-42c9-a7e5-502089841d1e",
   "metadata": {},
   "outputs": [
    {
     "name": "stdin",
     "output_type": "stream",
     "text": [
      "Enter a positive integer:  17\n"
     ]
    },
    {
     "name": "stdout",
     "output_type": "stream",
     "text": [
      "The sum of numbers from 1 to 17 is: 153\n"
     ]
    }
   ],
   "source": [
    "number = int(input(\"Enter a positive integer: \"))\n",
    "total = 0\n",
    "i = 1\n",
    "\n",
    "while i <= number:\n",
    "    total += i\n",
    "    i += 1\n",
    "\n",
    "print(\"The sum of numbers from 1 to\", number, \"is:\", total)"
   ]
  },
  {
   "cell_type": "markdown",
   "id": "bf11f87e-aaf7-43bc-8e51-dc27c3cddca0",
   "metadata": {},
   "source": [
    "### Program-12:\n",
    "- Write a program that ask the user to positive integer value as input and calculate the sum of all reciprocal numbers form 1 to N. The  Program should display the final sum.\n",
    "  - Output of program should be:\n",
    "  - Enter the positive Numbers: 6\n",
    "  - The sum of reciporcal from 1 to 5 is 2.28"
   ]
  },
  {
   "cell_type": "code",
   "execution_count": 15,
   "id": "1456a8e6-47db-42ac-80b1-6d3ce12b4c1f",
   "metadata": {},
   "outputs": [
    {
     "name": "stdin",
     "output_type": "stream",
     "text": [
      "Enter a positive integer:  6\n"
     ]
    },
    {
     "name": "stdout",
     "output_type": "stream",
     "text": [
      "The sum of reciprocals from 1 to 6 is: 2.4499999999999997\n"
     ]
    }
   ],
   "source": [
    "number = int(input(\"Enter a positive integer: \"))\n",
    "total = 0\n",
    "i = 1\n",
    "\n",
    "while i <= number:\n",
    "    total += 1 / i\n",
    "    i += 1\n",
    "\n",
    "print(\"The sum of reciprocals from 1 to\", number, \"is:\", total)"
   ]
  },
  {
   "cell_type": "markdown",
   "id": "e775824d-b7a7-43e9-9f71-3bee111a62ed",
   "metadata": {},
   "source": [
    "### Program-13:\n",
    "- Write a program that prompts the user to enter a numbers and repeat this process 5 times. The program should accumulate the numbers entered and then display the final total running.\n",
    "  - Enter a number: 10\n",
    "  - Enter a number: 20\n",
    "  - Enter a number: 30\n",
    "  - Enter a number: 40\n",
    "  - Enter a number: 50"
   ]
  },
  {
   "cell_type": "code",
   "execution_count": 24,
   "id": "e385db1a-25af-48ec-86a2-c43ae395f7c1",
   "metadata": {},
   "outputs": [
    {
     "name": "stdin",
     "output_type": "stream",
     "text": [
      "Enter number 1:  50\n",
      "Enter number 2:  60\n",
      "Enter number 3:  70\n",
      "Enter number 4:  80\n",
      "Enter number 5:  90\n"
     ]
    },
    {
     "name": "stdout",
     "output_type": "stream",
     "text": [
      "The final running total is: 350\n"
     ]
    }
   ],
   "source": [
    "total = 0\n",
    "count = 1\n",
    "\n",
    "while count <= 5:\n",
    "    num = int(input(\"Enter number \" + str(count) + \": \"))\n",
    "    total += num   \n",
    "    count += 1\n",
    "\n",
    "print(\"The final running total is:\", total)"
   ]
  },
  {
   "cell_type": "markdown",
   "id": "6b0bdb1e-fd6d-4f28-86af-983630ecf93f",
   "metadata": {},
   "source": [
    "### Program-14:\n",
    "- Write a program that take prompt form user to enter a positive integers value and calculate its value. The factorial of positive 'n' is denoted as 'n!' and its calculated by multiplying all the integers from 1 to n together. For Example, The Factorial of 5 is calculated as 5 x 4 x 3 x 2 x 1\n",
    "\n",
    "- Noted: The factorial input can't be Negitive...."
   ]
  },
  {
   "cell_type": "code",
   "execution_count": 26,
   "id": "d8fa4b0f-1f02-4e49-99ab-567a16ac4334",
   "metadata": {},
   "outputs": [
    {
     "name": "stdin",
     "output_type": "stream",
     "text": [
      "Enter a number:  8\n"
     ]
    },
    {
     "name": "stdout",
     "output_type": "stream",
     "text": [
      "Factorial of 8 is: 40320\n"
     ]
    }
   ],
   "source": [
    "number = int(input(\"Enter a number: \"))\n",
    "factorial = 1\n",
    "i = 1\n",
    "\n",
    "while i <= number:\n",
    "    factorial *= i\n",
    "    i += 1\n",
    "\n",
    "print(\"Factorial of\", number, \"is:\", factorial)"
   ]
  },
  {
   "cell_type": "markdown",
   "id": "993dd951-48c6-4f34-a135-fdccd5147038",
   "metadata": {},
   "source": [
    "### Program-15:\n",
    "- Write a python program that prompts the user to enter a base number and an exponent, and then calculate the power of base to exponent. The program should handle both positive and negitive expoenent\n",
    "\n",
    "- The program should not use the **exponentation operator ()** or the **math pow() function.**"
   ]
  },
  {
   "cell_type": "code",
   "execution_count": 30,
   "id": "6dfe421d-88f2-430d-b96b-476b311775fc",
   "metadata": {},
   "outputs": [
    {
     "name": "stdin",
     "output_type": "stream",
     "text": [
      "Enter the base number:  34\n",
      "Enter the exponent:  2\n"
     ]
    },
    {
     "name": "stdout",
     "output_type": "stream",
     "text": [
      "34.0 raised to the power 2 is: 1156.0\n"
     ]
    }
   ],
   "source": [
    "base = float(input(\"Enter the base number: \"))\n",
    "exponent = int(input(\"Enter the exponent: \"))\n",
    "\n",
    "result = 1\n",
    "\n",
    "if exponent > 0:\n",
    "    for i in range(exponent):\n",
    "        result *= base\n",
    "elif exponent < 0:\n",
    "    for i in range(-exponent):\n",
    "        result *= base\n",
    "    result = 1 / result\n",
    "# If exponent is 0, result remains 1\n",
    "print(f\"{base} raised to the power {exponent} is: {result}\")\n"
   ]
  },
  {
   "cell_type": "code",
   "execution_count": null,
   "id": "70098ebf-ed49-4054-a868-f1dfdf5ecaa1",
   "metadata": {},
   "outputs": [],
   "source": []
  }
 ],
 "metadata": {
  "kernelspec": {
   "display_name": "Python 3 (ipykernel)",
   "language": "python",
   "name": "python3"
  },
  "language_info": {
   "codemirror_mode": {
    "name": "ipython",
    "version": 3
   },
   "file_extension": ".py",
   "mimetype": "text/x-python",
   "name": "python",
   "nbconvert_exporter": "python",
   "pygments_lexer": "ipython3",
   "version": "3.13.5"
  }
 },
 "nbformat": 4,
 "nbformat_minor": 5
}
