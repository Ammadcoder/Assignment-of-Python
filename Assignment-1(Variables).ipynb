{
 "cells": [
  {
   "cell_type": "markdown",
   "id": "a4375a05-b5c4-442d-b2e0-3b7889b5bfe4",
   "metadata": {},
   "source": [
    "### Program-1:\n",
    "- Print Your Name with your Father name and Date of birth using suitable escape sequence character."
   ]
  },
  {
   "cell_type": "code",
   "execution_count": 1,
   "id": "c911c291-d123-417a-a847-2d82150780ca",
   "metadata": {},
   "outputs": [
    {
     "name": "stdout",
     "output_type": "stream",
     "text": [
      "my_name: Ammad \n",
      "Father_name: Hafeez \n",
      "DOB: 4-7-2006\n"
     ]
    }
   ],
   "source": [
    "print(\"my_name: Ammad \\nFather_name: Hafeez \\nDOB: 4-7-2006\")"
   ]
  },
  {
   "cell_type": "markdown",
   "id": "d0a2b344-413b-43ee-bcbf-1f1803b49604",
   "metadata": {},
   "source": [
    "### Program-2:\n",
    "- Write your small bio using variables and print it using print function."
   ]
  },
  {
   "cell_type": "code",
   "execution_count": 2,
   "id": "6a5f98d4-6a48-4d08-bb20-073fb899a3ad",
   "metadata": {},
   "outputs": [
    {
     "name": "stdout",
     "output_type": "stream",
     "text": [
      "My Name is Ammad, my Father Name is Hafeez, my Date of Birth is 4-7-2006\n"
     ]
    }
   ],
   "source": [
    "my_name = \"Ammad\"\n",
    "Father_name = \"Hafeez\" \n",
    "DOB = \"4-7-2006\"\n",
    "print(f\"My Name is {my_name}, my Father Name is {Father_name}, my Date of Birth is {DOB}\")"
   ]
  },
  {
   "cell_type": "markdown",
   "id": "883c4511-9977-4939-9822-0f8a7f46d933",
   "metadata": {},
   "source": [
    "### Program-3:\n",
    "-  Write a program in which use all the operators we can use in Python."
   ]
  },
  {
   "cell_type": "code",
   "execution_count": 3,
   "id": "e2295f8a-434b-45bf-83d0-dcb4573dd94a",
   "metadata": {},
   "outputs": [
    {
     "name": "stdin",
     "output_type": "stream",
     "text": [
      "Enter value of a:  3\n",
      "Enter value of a:  5\n"
     ]
    },
    {
     "name": "stdout",
     "output_type": "stream",
     "text": [
      "Arithmetic Operators:\n",
      "a + b = 8\n",
      "a - b = -2\n",
      "a * b = 15\n",
      "a / b = 0.6\n",
      "a % b = 3\n",
      "a ** b = 243\n",
      "a // b = 0\n",
      "\n",
      "Comparison Operators:\n",
      "a == b: False\n",
      "a != b: True\n",
      "a > b: False\n",
      "a < b: True\n",
      "a >= b: False\n",
      "a <= b: True\n",
      "\n",
      "Logical Operators:\n",
      "a > 5 and b < 5: False\n",
      "a > 5 or b > 5: False\n",
      "not(a > b): True\n"
     ]
    }
   ],
   "source": [
    "a = int(input(\"Enter value of a: \"))\n",
    "b = int(input(\"Enter value of a: \"))\n",
    "\n",
    "print(\"Arithmetic Operators:\")\n",
    "print(\"a + b =\", a + b)\n",
    "print(\"a - b =\", a - b)\n",
    "print(\"a * b =\", a * b)\n",
    "print(\"a / b =\", a / b)\n",
    "print(\"a % b =\", a % b)\n",
    "print(\"a ** b =\", a ** b)   \n",
    "print(\"a // b =\", a // b)   \n",
    "\n",
    "print(\"\\nComparison Operators:\")\n",
    "print(\"a == b:\", a == b)\n",
    "print(\"a != b:\", a != b)\n",
    "print(\"a > b:\", a > b)\n",
    "print(\"a < b:\", a < b)\n",
    "print(\"a >= b:\", a >= b)\n",
    "print(\"a <= b:\", a <= b)\n",
    "\n",
    "print(\"\\nLogical Operators:\")\n",
    "print(\"a > 5 and b < 5:\", a > 5 and b < 5)\n",
    "print(\"a > 5 or b > 5:\", a > 5 or b > 5)\n",
    "print(\"not(a > b):\", not(a > b))"
   ]
  },
  {
   "cell_type": "markdown",
   "id": "6eb31cf8-2f2f-4f16-859d-c07248af5bfe",
   "metadata": {},
   "source": [
    "### Program-4:\n",
    "- Mention Marks of English , Islamiat and Maths out of 100 in 3 different variables Mention Variable of Total Marks and assign 300 to it Calculate Percentage."
   ]
  },
  {
   "cell_type": "code",
   "execution_count": 4,
   "id": "7b0bd97e-bf99-4499-96c8-9c97f56ab254",
   "metadata": {},
   "outputs": [
    {
     "name": "stdout",
     "output_type": "stream",
     "text": [
      "84.0\n"
     ]
    }
   ],
   "source": [
    "English = 80\n",
    "Math = 85\n",
    "Islamiat = 87\n",
    "Total_marks = 300\n",
    "obtained_marks = English + Math + Islamiat\n",
    "percentage = (obtained_marks/Total_marks)*100\n",
    "print(percentage)"
   ]
  },
  {
   "cell_type": "code",
   "execution_count": null,
   "id": "082a7b4b-1215-454b-847e-b1d10bf749ff",
   "metadata": {},
   "outputs": [],
   "source": []
  }
 ],
 "metadata": {
  "kernelspec": {
   "display_name": "Python 3 (ipykernel)",
   "language": "python",
   "name": "python3"
  },
  "language_info": {
   "codemirror_mode": {
    "name": "ipython",
    "version": 3
   },
   "file_extension": ".py",
   "mimetype": "text/x-python",
   "name": "python",
   "nbconvert_exporter": "python",
   "pygments_lexer": "ipython3",
   "version": "3.13.5"
  }
 },
 "nbformat": 4,
 "nbformat_minor": 5
}
