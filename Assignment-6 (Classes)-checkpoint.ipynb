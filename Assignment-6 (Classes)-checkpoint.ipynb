{
 "cells": [
  {
   "cell_type": "markdown",
   "id": "720e907e-170b-4055-829b-a9e3e3675a07",
   "metadata": {},
   "source": [
    "### Program-1:\n",
    "- Write a Python program to create a class representing a Circle. Include methods to calculate its area and perimeter."
   ]
  },
  {
   "cell_type": "code",
   "execution_count": 1,
   "id": "06a44d97-1581-47ea-9f36-84afb4e75e6f",
   "metadata": {},
   "outputs": [],
   "source": [
    "import math\n",
    "class circle():\n",
    "    def __init__(self,radius):\n",
    "        self.radius = radius\n",
    "\n",
    "    def area(self):\n",
    "        return math.pi*self.radius\n",
    "\n",
    "    def parimeter(self):\n",
    "        return 2*math.pi*self.radius\n"
   ]
  },
  {
   "cell_type": "code",
   "execution_count": 2,
   "id": "78940de9-8117-412e-9f92-f220c35492b9",
   "metadata": {},
   "outputs": [],
   "source": [
    "cir_obj = circle(6)"
   ]
  },
  {
   "cell_type": "code",
   "execution_count": 3,
   "id": "7f08c6d0-b29b-4b94-9dd6-3070e0132b13",
   "metadata": {},
   "outputs": [
    {
     "data": {
      "text/plain": [
       "18.84955592153876"
      ]
     },
     "execution_count": 3,
     "metadata": {},
     "output_type": "execute_result"
    }
   ],
   "source": [
    "cir_obj.area()"
   ]
  },
  {
   "cell_type": "code",
   "execution_count": 4,
   "id": "d77f9b15-073e-4d4b-9284-565ae9dd7a85",
   "metadata": {},
   "outputs": [
    {
     "data": {
      "text/plain": [
       "37.69911184307752"
      ]
     },
     "execution_count": 4,
     "metadata": {},
     "output_type": "execute_result"
    }
   ],
   "source": [
    "cir_obj.parimeter()"
   ]
  },
  {
   "cell_type": "markdown",
   "id": "a181d8f3-65b9-4752-8f81-973c6ed0db30",
   "metadata": {},
   "source": [
    "### Program-2:\n",
    "- Write a Python program to create a person class. Include attributes like name, country and date of birth. Implement a method to determine the person's age."
   ]
  },
  {
   "cell_type": "code",
   "execution_count": 5,
   "id": "24734250-7216-445d-9cbc-d6242b589684",
   "metadata": {},
   "outputs": [],
   "source": [
    "from datetime import date\n",
    "from dateutil.relativedelta import relativedelta   # make sure to import\n",
    "\n",
    "class person():\n",
    "    def __init__(self, name, country, DOB):\n",
    "        self.name = name\n",
    "        self.country = country\n",
    "        self.DOB = DOB\n",
    "\n",
    "    def date_age(self):\n",
    "        current_date = date.today()\n",
    "        print(f\"age {relativedelta(current_date , self.DOB).years} years\")"
   ]
  },
  {
   "cell_type": "code",
   "execution_count": 6,
   "id": "d105a2c3-57ef-460e-b5ec-78837795a784",
   "metadata": {},
   "outputs": [],
   "source": [
    "per_obj = person(\"Ammad\", \"Pak\", date(2006,7,4))"
   ]
  },
  {
   "cell_type": "code",
   "execution_count": 8,
   "id": "07eec891-cf51-471e-9db4-31a045b9742e",
   "metadata": {},
   "outputs": [
    {
     "name": "stdout",
     "output_type": "stream",
     "text": [
      "age 19 years\n"
     ]
    }
   ],
   "source": [
    "per_obj.date_age()"
   ]
  },
  {
   "cell_type": "code",
   "execution_count": 9,
   "id": "23e3e59f-cee2-4c8d-b969-7d587cf4940e",
   "metadata": {},
   "outputs": [
    {
     "data": {
      "text/plain": [
       "'Ammad'"
      ]
     },
     "execution_count": 9,
     "metadata": {},
     "output_type": "execute_result"
    }
   ],
   "source": [
    "per_obj.name"
   ]
  },
  {
   "cell_type": "markdown",
   "id": "f900c7d2-116c-4ab1-a1f1-87945fa54b9e",
   "metadata": {},
   "source": [
    "### Program-3:\n",
    "- Write a Python program to create a calculator class. Include methods for basic arithmetic operations."
   ]
  },
  {
   "cell_type": "code",
   "execution_count": 10,
   "id": "8e5e1be7-3ede-468a-8686-22434aa3a2d6",
   "metadata": {},
   "outputs": [],
   "source": [
    "class calculator():\n",
    "\n",
    "    def __init__(self):\n",
    "        pass\n",
    "\n",
    "    def add(self, num1, num2):\n",
    "        print(f\"The addition of {num1} and {num2} is equal to {num1+num2}\")\n",
    "\n",
    "    def sub(self, num1, num2):\n",
    "        print(f\"The Substraction of {num1} and {num2} is equal to {num1-num2}\")\n",
    "\n",
    "    def mult(self, num1, num2):\n",
    "        print(f\"The Multiplication of {num1} and {num2} is equal to {num1*num2}\")\n",
    "\n",
    "    def div(self, num1, num2):\n",
    "        print(f\"The Division of {num1} and {num2} is equal to {num1/num2}\")"
   ]
  },
  {
   "cell_type": "code",
   "execution_count": 15,
   "id": "16b53f91-0933-4f80-8c51-33b32e8e2f8a",
   "metadata": {},
   "outputs": [],
   "source": [
    "calc_obj = calculator()"
   ]
  },
  {
   "cell_type": "code",
   "execution_count": 16,
   "id": "ae9b5980-541e-4842-a996-7feefd3ae14a",
   "metadata": {},
   "outputs": [
    {
     "name": "stdout",
     "output_type": "stream",
     "text": [
      "The addition of 4 and 6 is equal to 10\n",
      "The Substraction of 4 and 6 is equal to -2\n",
      "The Multiplication of 4 and 6 is equal to 24\n",
      "The Division of 4 and 6 is equal to 0.6666666666666666\n"
     ]
    }
   ],
   "source": [
    "calc_obj.add(4,6)\n",
    "calc_obj.sub(4,6)\n",
    "calc_obj.mult(4,6)\n",
    "calc_obj.div(4,6)"
   ]
  },
  {
   "cell_type": "code",
   "execution_count": null,
   "id": "5609d7d3-4b2e-455d-b2d9-05926557f773",
   "metadata": {},
   "outputs": [],
   "source": []
  },
  {
   "cell_type": "code",
   "execution_count": null,
   "id": "bb81b752-a92b-452f-aee2-ef14edd886db",
   "metadata": {},
   "outputs": [],
   "source": []
  }
 ],
 "metadata": {
  "kernelspec": {
   "display_name": "Python 3 (ipykernel)",
   "language": "python",
   "name": "python3"
  },
  "language_info": {
   "codemirror_mode": {
    "name": "ipython",
    "version": 3
   },
   "file_extension": ".py",
   "mimetype": "text/x-python",
   "name": "python",
   "nbconvert_exporter": "python",
   "pygments_lexer": "ipython3",
   "version": "3.13.5"
  }
 },
 "nbformat": 4,
 "nbformat_minor": 5
}
